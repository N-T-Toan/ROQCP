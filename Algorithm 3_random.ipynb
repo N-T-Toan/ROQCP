{
 "cells": [
  {
   "cell_type": "markdown",
   "metadata": {
    "id": "l0cYUovSQUDZ"
   },
   "source": [
    "# ALGORITHM 3"
   ]
  },
  {
   "cell_type": "code",
   "execution_count": 1,
   "metadata": {
    "id": "RnyrS7j5Jqij"
   },
   "outputs": [],
   "source": [
    "import numpy as np\n",
    "import timeit\n",
    "n=10000\n",
    "sigma = 1000\n",
    "def generate_data():\n",
    "    l = np.random.uniform(10, 50, size=n)\n",
    "    c = np.random.uniform(10, 50, size=n)\n",
    "    x_bar = np.random.uniform(1, 10, size=n)\n",
    "    #y_bar = np.random.uniform(1, c-1, size=n)\n",
    "    y_bar = [np.random.uniform(1, c_i - 1) for c_i in c]\n",
    "    lbd = np.random.uniform(5, 10, size=n)\n",
    "    mu = np.random.uniform(1, 150, size=n)\n",
    "    input_data= {\n",
    "        \"l\": l,\n",
    "        \"c\": c,\n",
    "        \"x_bar\": x_bar,\n",
    "        \"y_bar\": y_bar,\n",
    "        \"lbd\": lbd,\n",
    "        \"mu\": mu,\n",
    "    }\n",
    "    return input_data\n",
    "input_data=generate_data()\n",
    "Budget = np.sum(input_data[\"mu\"])/100\n",
    "def calculate_T(input_data):\n",
    "    l=input_data[\"l\"]\n",
    "    c=input_data[\"c\"]\n",
    "    x_bar=input_data[\"x_bar\"]\n",
    "    y_bar=input_data[\"y_bar\"]\n",
    "    lbd = input_data[\"lbd\"]\n",
    "    mu=input_data[\"mu\"]\n",
    "    T = l + sigma/c\n",
    "    T_max = l+ x_bar + sigma/(c - y_bar)\n",
    "    T_x = l+ x_bar + sigma/c\n",
    "    T_y = l + sigma/(c - y_bar)\n",
    "    output_T= {\n",
    "        \"T\": T,\n",
    "        \"T_max\": T_max,\n",
    "        \"T_x\": T_x,\n",
    "        \"T_y\": T_y,\n",
    "\n",
    "    }\n",
    "    return output_T\n",
    "output_T=calculate_T(input_data)"
   ]
  },
  {
   "cell_type": "code",
   "execution_count": 2,
   "metadata": {
    "colab": {
     "base_uri": "https://localhost:8080/"
    },
    "id": "1SzUB_Ro1bzw",
    "outputId": "4b81917a-07f1-4023-9030-e7e9c4371666"
   },
   "outputs": [],
   "source": [
    "def algorithm_alg3(input_data,output_T,Budget):\n",
    "  alpha=np.min(output_T[\"T\"])\n",
    "  beta=np.min(output_T[\"T_y\"])\n",
    "  W = output_T[\"T\"][output_T[\"T\"] < beta]\n",
    "  W = np.append(W, beta)\n",
    "  W = np.sort(W)\n",
    "# Algorithm\n",
    "  def algorithm3(W, input_data, Budget, output_T):\n",
    "      mu = input_data[\"mu\"]\n",
    "\n",
    "      def find_median(W, output_T):\n",
    "          while True:\n",
    "              median = np.median(W)\n",
    "              indices_H_in_T = np.where(np.isin(output_T[\"T\"], W))[0]\n",
    "              L = [i for i in indices_H_in_T if output_T[\"T\"][i] < median]\n",
    "              R = [i for i in indices_H_in_T if output_T[\"T\"][i] >= median]\n",
    "\n",
    "              omega = sum(mu[i] for i in L)\n",
    "              delta = 0\n",
    "\n",
    "              if omega == Budget:\n",
    "                  return median\n",
    "\n",
    "              elif omega < Budget:\n",
    "                  W = [output_T[\"T\"][i] for i in R]\n",
    "                  delta += sum(mu[i] for i in L)\n",
    "              else:\n",
    "                  W = [output_T[\"T\"][i] for i in L]\n",
    "\n",
    "              return [W[0]]\n",
    "\n",
    "      op_median = find_median(W, output_T)\n",
    "      indices_H_in_T = np.where(np.isin(output_T[\"T\"], W))[0]\n",
    "      if sum(input_data[\"mu\"][i] for i in np.where(output_T[\"T\"] < op_median)[0]) > Budget:\n",
    "          max_val = max([output_T[\"T\"][i] for i in indices_H_in_T if output_T[\"T\"][i] < op_median])\n",
    "          return max_val\n",
    "      else:\n",
    "          return op_median\n",
    "  t_optimal_alg3 = algorithm3(W, input_data, Budget, output_T)\n",
    "  def solution(t, output_T, input_data):\n",
    "      T = output_T[\"T\"]\n",
    "      y_bar = input_data[\"y_bar\"]\n",
    "      A = np.where(T < t)[0]\n",
    "      y = np.zeros_like(input_data[\"l\"])\n",
    "      for i in A:\n",
    "          y[i] = y_bar[i]\n",
    "      return y\n",
    "  y=solution(t=t_optimal_alg3, output_T=output_T, input_data=input_data)\n",
    "  return  y\n",
    "result_alg3= algorithm_alg3(input_data,output_T,Budget)"
   ]
  },
  {
   "cell_type": "code",
   "execution_count": 3,
   "metadata": {
    "colab": {
     "base_uri": "https://localhost:8080/"
    },
    "id": "zqD-hmAf3HzP",
    "outputId": "58e32ebf-a06a-4fc9-97cf-631898a9da4c"
   },
   "outputs": [],
   "source": [
    "# Number of runs\n",
    "num_runs = 50\n",
    "\n",
    "# Calculate the running time of Algorithm 3\n",
    "times_alg3 = timeit.repeat(lambda: algorithm_alg3(input_data,output_T,Budget), number=1, repeat=num_runs)\n",
    "\n",
    "# Average running time of Algorithm 3\n",
    "time_avg_alg3 = sum(times_alg3) / num_runs\n",
    "print(time_avg_alg3)"
   ]
  }
 ],
 "metadata": {
  "colab": {
   "provenance": []
  },
  "kernelspec": {
   "display_name": "Python 3 (ipykernel)",
   "language": "python",
   "name": "python3"
  },
  "language_info": {
   "codemirror_mode": {
    "name": "ipython",
    "version": 3
   },
   "file_extension": ".py",
   "mimetype": "text/x-python",
   "name": "python",
   "nbconvert_exporter": "python",
   "pygments_lexer": "ipython3",
   "version": "3.9.13"
  }
 },
 "nbformat": 4,
 "nbformat_minor": 1
}
